{
  "nbformat": 4,
  "nbformat_minor": 0,
  "metadata": {
    "colab": {
      "provenance": []
    },
    "kernelspec": {
      "name": "python3",
      "display_name": "Python 3"
    },
    "language_info": {
      "name": "python"
    }
  },
  "cells": [
    {
      "cell_type": "code",
      "execution_count": 3,
      "metadata": {
        "colab": {
          "base_uri": "https://localhost:8080/"
        },
        "id": "Tf_VziWewwkj",
        "outputId": "8209dbb8-deec-4642-9f38-7f8d0f646fa5"
      },
      "outputs": [
        {
          "output_type": "stream",
          "name": "stdout",
          "text": [
            "Requirement already satisfied: transformers in /usr/local/lib/python3.10/dist-packages (4.44.2)\n",
            "Collecting pydub\n",
            "  Downloading pydub-0.25.1-py2.py3-none-any.whl.metadata (1.4 kB)\n",
            "Collecting speechrecognition\n",
            "  Downloading SpeechRecognition-3.11.0-py2.py3-none-any.whl.metadata (28 kB)\n",
            "Requirement already satisfied: torch in /usr/local/lib/python3.10/dist-packages (2.4.1+cu121)\n",
            "Requirement already satisfied: filelock in /usr/local/lib/python3.10/dist-packages (from transformers) (3.16.1)\n",
            "Requirement already satisfied: huggingface-hub<1.0,>=0.23.2 in /usr/local/lib/python3.10/dist-packages (from transformers) (0.24.7)\n",
            "Requirement already satisfied: numpy>=1.17 in /usr/local/lib/python3.10/dist-packages (from transformers) (1.26.4)\n",
            "Requirement already satisfied: packaging>=20.0 in /usr/local/lib/python3.10/dist-packages (from transformers) (24.1)\n",
            "Requirement already satisfied: pyyaml>=5.1 in /usr/local/lib/python3.10/dist-packages (from transformers) (6.0.2)\n",
            "Requirement already satisfied: regex!=2019.12.17 in /usr/local/lib/python3.10/dist-packages (from transformers) (2024.9.11)\n",
            "Requirement already satisfied: requests in /usr/local/lib/python3.10/dist-packages (from transformers) (2.32.3)\n",
            "Requirement already satisfied: safetensors>=0.4.1 in /usr/local/lib/python3.10/dist-packages (from transformers) (0.4.5)\n",
            "Requirement already satisfied: tokenizers<0.20,>=0.19 in /usr/local/lib/python3.10/dist-packages (from transformers) (0.19.1)\n",
            "Requirement already satisfied: tqdm>=4.27 in /usr/local/lib/python3.10/dist-packages (from transformers) (4.66.5)\n",
            "Requirement already satisfied: typing-extensions in /usr/local/lib/python3.10/dist-packages (from speechrecognition) (4.12.2)\n",
            "Requirement already satisfied: sympy in /usr/local/lib/python3.10/dist-packages (from torch) (1.13.3)\n",
            "Requirement already satisfied: networkx in /usr/local/lib/python3.10/dist-packages (from torch) (3.4.1)\n",
            "Requirement already satisfied: jinja2 in /usr/local/lib/python3.10/dist-packages (from torch) (3.1.4)\n",
            "Requirement already satisfied: fsspec in /usr/local/lib/python3.10/dist-packages (from torch) (2024.6.1)\n",
            "Requirement already satisfied: charset-normalizer<4,>=2 in /usr/local/lib/python3.10/dist-packages (from requests->transformers) (3.4.0)\n",
            "Requirement already satisfied: idna<4,>=2.5 in /usr/local/lib/python3.10/dist-packages (from requests->transformers) (3.10)\n",
            "Requirement already satisfied: urllib3<3,>=1.21.1 in /usr/local/lib/python3.10/dist-packages (from requests->transformers) (2.2.3)\n",
            "Requirement already satisfied: certifi>=2017.4.17 in /usr/local/lib/python3.10/dist-packages (from requests->transformers) (2024.8.30)\n",
            "Requirement already satisfied: MarkupSafe>=2.0 in /usr/local/lib/python3.10/dist-packages (from jinja2->torch) (3.0.2)\n",
            "Requirement already satisfied: mpmath<1.4,>=1.1.0 in /usr/local/lib/python3.10/dist-packages (from sympy->torch) (1.3.0)\n",
            "Downloading pydub-0.25.1-py2.py3-none-any.whl (32 kB)\n",
            "Downloading SpeechRecognition-3.11.0-py2.py3-none-any.whl (32.8 MB)\n",
            "\u001b[2K   \u001b[90m━━━━━━━━━━━━━━━━━━━━━━━━━━━━━━━━━━━━━━━━\u001b[0m \u001b[32m32.8/32.8 MB\u001b[0m \u001b[31m12.4 MB/s\u001b[0m eta \u001b[36m0:00:00\u001b[0m\n",
            "\u001b[?25hInstalling collected packages: pydub, speechrecognition\n",
            "Successfully installed pydub-0.25.1 speechrecognition-3.11.0\n"
          ]
        }
      ],
      "source": [
        "!pip install transformers pydub speechrecognition torch"
      ]
    },
    {
      "cell_type": "code",
      "source": [
        "import torch\n",
        "from transformers import pipeline, AutoTokenizer, AutoModelForSequenceClassification\n",
        "import speech_recognition as sr\n",
        "from pydub import AudioSegment\n",
        "from pydub.playback import play\n",
        "import time\n",
        "import os\n",
        "\n",
        "# Load pre-trained models\n",
        "model_name = \"nlptown/bert-base-multilingual-uncased-sentiment\"\n",
        "tokenizer = AutoTokenizer.from_pretrained(model_name)\n",
        "model = AutoModelForSequenceClassification.from_pretrained(model_name)\n",
        "sentiment_pipeline = pipeline(\"sentiment-analysis\", model=model, tokenizer=tokenizer)\n",
        "\n",
        "# Speech-to-Text function\n",
        "def transcribe_audio_chunk(audio_chunk, temp_file=\"temp_audio_chunk.wav\"):\n",
        "    recognizer = sr.Recognizer()\n",
        "\n",
        "    audio_chunk.export(temp_file, format=\"wav\")\n",
        "\n",
        "    try:\n",
        "        with sr.AudioFile(temp_file) as source:\n",
        "            audio_data = recognizer.record(source)\n",
        "            text = recognizer.recognize_google(audio_data)\n",
        "            return text\n",
        "    except sr.UnknownValueError:\n",
        "        return None\n",
        "    except sr.RequestError as e:\n",
        "        print(f\"Error with Google API: {e}\")\n",
        "        return None\n",
        "    finally:\n",
        "        if os.path.exists(temp_file):\n",
        "            os.remove(temp_file)\n",
        "\n",
        "# Real-time sentiment analysis\n",
        "def analyze_sentiment_in_real_time(audio_file, chunk_size=10):\n",
        "    audio = AudioSegment.from_wav(audio_file)\n",
        "    total_duration = audio.duration_seconds\n",
        "    interval = min(chunk_size, total_duration)\n",
        "\n",
        "    sentiment_history = []\n",
        "    actionable_insights = []\n",
        "\n",
        "    print(f\"Total audio duration: {total_duration} seconds\")\n",
        "\n",
        "    for start in range(0, int(total_duration), interval):\n",
        "        end = start + interval\n",
        "        print(f\"Processing from {start} to {end} seconds...\")\n",
        "\n",
        "        # Extract and transcribe\n",
        "        audio_chunk = audio[start*1000:end*1000]  # milliseconds\n",
        "        text_chunk = transcribe_audio_chunk(audio_chunk)\n",
        "\n",
        "        if text_chunk:\n",
        "\n",
        "            sentiment = sentiment_pipeline(text_chunk[:512])\n",
        "            sentiment_history.append(sentiment)\n",
        "            print(f\"Sentiment: {sentiment}\")\n",
        "\n",
        "            actionable_cue = generate_actionable_feedback(sentiment)\n",
        "            if actionable_cue:\n",
        "                actionable_insights.append(actionable_cue)\n",
        "                print(f\"Actionable Insight: {actionable_cue}\")\n",
        "        else:\n",
        "            print(\"Audio Unintelligible. Skipping this segment.\")\n",
        "\n",
        "        time.sleep(interval)\n",
        "        play(audio_chunk)\n",
        "\n",
        "    return sentiment_history, actionable_insights\n",
        "\n",
        "# Generate feedback\n",
        "def generate_actionable_feedback(sentiment):\n",
        "    label = sentiment[0]['label']\n",
        "    if label == '1 star' or label == '2 stars':\n",
        "        return \"Agent should calm the customer and acknowledge concerns.\"\n",
        "    elif label == '4 stars' or '5 stars':\n",
        "        return \"Agent is doing well, continue the positive engagement.\"\n",
        "    else:\n",
        "        return None\n",
        "\n",
        "# input audio file\n",
        "audio_file = \"/content/InboundSampleRecording-VEED.wav\"\n",
        "sentiment_history, actionable_insights = analyze_sentiment_in_real_time(audio_file)\n"
      ],
      "metadata": {
        "colab": {
          "base_uri": "https://localhost:8080/"
        },
        "id": "bTd0Ebb1w2Tm",
        "outputId": "aabb993c-9f65-491d-8772-3893d9f978a1"
      },
      "execution_count": null,
      "outputs": [
        {
          "output_type": "stream",
          "name": "stderr",
          "text": [
            "/usr/local/lib/python3.10/dist-packages/transformers/tokenization_utils_base.py:1601: FutureWarning: `clean_up_tokenization_spaces` was not set. It will be set to `True` by default. This behavior will be depracted in transformers v4.45, and will be then set to `False` by default. For more details check this issue: https://github.com/huggingface/transformers/issues/31884\n",
            "  warnings.warn(\n"
          ]
        },
        {
          "output_type": "stream",
          "name": "stdout",
          "text": [
            "Total audio duration: 120.832 seconds\n",
            "Processing from 0 to 10 seconds...\n",
            "Sentiment: [{'label': '5 stars', 'score': 0.48014259338378906}]\n",
            "Actionable Insight: Agent is doing well, continue the positive engagement.\n",
            "Processing from 10 to 20 seconds...\n",
            "Sentiment: [{'label': '5 stars', 'score': 0.5405098795890808}]\n",
            "Actionable Insight: Agent is doing well, continue the positive engagement.\n",
            "Processing from 20 to 30 seconds...\n",
            "Sentiment: [{'label': '4 stars', 'score': 0.39122387766838074}]\n",
            "Actionable Insight: Agent is doing well, continue the positive engagement.\n",
            "Processing from 30 to 40 seconds...\n",
            "Sentiment: [{'label': '1 star', 'score': 0.5363258123397827}]\n",
            "Actionable Insight: Agent should calm the customer and acknowledge concerns.\n",
            "Processing from 40 to 50 seconds...\n",
            "Sentiment: [{'label': '1 star', 'score': 0.4673415422439575}]\n",
            "Actionable Insight: Agent should calm the customer and acknowledge concerns.\n",
            "Processing from 50 to 60 seconds...\n",
            "Audio Unintelligible. Skipping this segment.\n",
            "Processing from 60 to 70 seconds...\n",
            "Sentiment: [{'label': '1 star', 'score': 0.29619818925857544}]\n",
            "Actionable Insight: Agent should calm the customer and acknowledge concerns.\n",
            "Processing from 70 to 80 seconds...\n",
            "Sentiment: [{'label': '5 stars', 'score': 0.2941341996192932}]\n",
            "Actionable Insight: Agent is doing well, continue the positive engagement.\n",
            "Processing from 80 to 90 seconds...\n",
            "Audio Unintelligible. Skipping this segment.\n",
            "Processing from 90 to 100 seconds...\n",
            "Sentiment: [{'label': '1 star', 'score': 0.2642374634742737}]\n",
            "Actionable Insight: Agent should calm the customer and acknowledge concerns.\n",
            "Processing from 100 to 110 seconds...\n",
            "Sentiment: [{'label': '5 stars', 'score': 0.2663269639015198}]\n",
            "Actionable Insight: Agent is doing well, continue the positive engagement.\n",
            "Processing from 110 to 120 seconds...\n",
            "Sentiment: [{'label': '5 stars', 'score': 0.37831220030784607}]\n",
            "Actionable Insight: Agent is doing well, continue the positive engagement.\n"
          ]
        }
      ]
    },
    {
      "cell_type": "code",
      "source": [
        "!pip freeze > requirements.txt"
      ],
      "metadata": {
        "id": "MUBUl4h1xHxs"
      },
      "execution_count": 4,
      "outputs": []
    },
    {
      "cell_type": "code",
      "source": [],
      "metadata": {
        "id": "utRs69KfyhhI"
      },
      "execution_count": null,
      "outputs": []
    }
  ]
}